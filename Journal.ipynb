{
 "cells": [
  {
   "cell_type": "markdown",
   "metadata": {},
   "source": [
    "# Journal Entry\n",
    "\n"
   ]
  },
  {
   "cell_type": "markdown",
   "metadata": {},
   "source": [
    "## 26/4/2018\n",
    "\n",
    "### PLD and Pulse Laser deposition\n",
    "PLD : Pulse laser deposition\n",
    "RHEED : Reflection High Energy Electron deposition\n",
    "\n",
    "\n",
    "Procedure for the sample is initially set by : https://en.wikipedia.org/wiki/Photolithography\n",
    "\n",
    "**Procedure for substrate**\n",
    "\n",
    "fabricated in the UTwente clean room (Yelllow room) STO substrate\n",
    "- The substrate grown, ( Reseach on: STO growth, and lookup terrace on why that the terrace form is needed. Not completely flat)atoms moving, so better defined. \n",
    "- Substrate is cleaned, \n",
    "- spin coating with photo resist\n",
    "- Apply photomask, do allignment and such\n",
    "- Apply UV light for 7 seconds\n",
    "- Remove photo resist, clean using solvents.\n",
    "- Etching stuff\n",
    "Lookup the phd thesis\n",
    "\n",
    "**PLD** \n",
    "- Alignment of the optics\n",
    "- set the Energy of the laser, calibrate it. Energy of the laser is based on the ionization energy required for the material.\n",
    "- The allignment \n",
    "- Temperature 850C for ALO \n",
    "- Temperature 100C for Gold\n",
    "- Shoot single atoms single atom and react ambient oxygen in the container, \n",
    "- Plasma flume is shot out, interact with the surrounding oxygen and will cover the STO sample with the LAO layer. then the gold \n",
    "- \n",
    "- \n",
    "\n",
    "Lookup hall bridge:\n",
    "2 types of electron later on.\n",
    "\n",
    "Put more parameters in paper of the PLD.\n",
    "heated so it becomes a plasma. \n",
    "\n",
    "\n",
    "**IMPORTANT to make a good measurement protocol for FETS** \n",
    "Need do that now. Lookup hall effect for the measurement.\n",
    "\n",
    "Lookup van der pauw method for classification of mobility and charge density so you can relate your theory of simulation with the measurement.\n",
    "\n",
    "\n",
    "\n",
    "\n",
    "\n",
    "\n",
    "\n",
    "\n"
   ]
  },
  {
   "cell_type": "markdown",
   "metadata": {},
   "source": [
    "## 30/4/2018\n",
    "\n",
    "### Sample FETs\n",
    "\n",
    "Measurement can be done in this week. Today is the finalization of the 4 u.c FET. Get used to the wire bonded setup for measuring the 4 uc thick. \n",
    "\n",
    "Use the following formula to model it.\n",
    "\n"
   ]
  },
  {
   "cell_type": "code",
   "execution_count": 1,
   "metadata": {},
   "outputs": [
    {
     "ename": "SyntaxError",
     "evalue": "invalid syntax (<ipython-input-1-a81af80568d6>, line 10)",
     "output_type": "error",
     "traceback": [
      "\u001b[1;36m  File \u001b[1;32m\"<ipython-input-1-a81af80568d6>\"\u001b[1;36m, line \u001b[1;32m10\u001b[0m\n\u001b[1;33m    n = (C_ox + C dep)/C_ox\u001b[0m\n\u001b[1;37m                    ^\u001b[0m\n\u001b[1;31mSyntaxError\u001b[0m\u001b[1;31m:\u001b[0m invalid syntax\n"
     ]
    }
   ],
   "source": [
    "import matplotlib.pyplot as plt\n",
    "import numpy as np\n",
    "import panda as pd\n",
    "\n",
    "k = np.Boltzmann\n",
    "T = 300\n",
    "C_dep = 1\n",
    "C_ox = 1\n",
    "\n",
    "n = (C_ox + C dep)/C_ox\n",
    "S = n*(kT/Q)*np.log(10)\n",
    "\n",
    "v= 1/2\n",
    "R = R_0*np.exp((T_0/T)^v)\n",
    "\n",
    "\n"
   ]
  },
  {
   "cell_type": "markdown",
   "metadata": {},
   "source": []
  },
  {
   "cell_type": "code",
   "execution_count": null,
   "metadata": {},
   "outputs": [],
   "source": []
  }
 ],
 "metadata": {
  "kernelspec": {
   "display_name": "Python 3",
   "language": "python",
   "name": "python3"
  },
  "language_info": {
   "codemirror_mode": {
    "name": "ipython",
    "version": 3
   },
   "file_extension": ".py",
   "mimetype": "text/x-python",
   "name": "python",
   "nbconvert_exporter": "python",
   "pygments_lexer": "ipython3",
   "version": "3.6.4"
  }
 },
 "nbformat": 4,
 "nbformat_minor": 2
}
