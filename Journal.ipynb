{
 "cells": [
  {
   "cell_type": "markdown",
   "metadata": {},
   "source": [
    "# Journal Entry\n",
    "\n"
   ]
  },
  {
   "cell_type": "markdown",
   "metadata": {},
   "source": [
    "## 26/4/2018\n",
    "\n",
    "### PLD and Pulse Laser deposition\n",
    "PLD : Pulse laser deposition\n",
    "RHEED : Reflection High Energy Electron deposition\n",
    "\n",
    "\n",
    "Procedure for the sample is initially set by : https://en.wikipedia.org/wiki/Photolithography\n",
    "\n",
    "**Procedure for substrate**\n",
    "\n",
    "fabricated in the UTwente clean room (Yelllow room) STO substrate\n",
    "- The substrate grown, ( Reseach on: STO growth, and lookup terrace on why that the terrace form is needed. Not completely flat)atoms moving, so better defined. \n",
    "- Substrate is cleaned, \n",
    "- spin coating with photo resist\n",
    "- Apply photomask, do allignment and such\n",
    "- Apply UV light for 7 seconds\n",
    "- Remove photo resist, clean using solvents.\n",
    "- Etching stuff\n",
    "- \n",
    "**PLD** \n",
    "- Alignment of the optics\n",
    "- set the Energy of the laser, calibrate it. Energy of the laser is based on the ionization energy required for the material.\n",
    "- The allignment \n",
    "- Temperature 850C for ALO \n",
    "- Temperature 100C for Gold\n",
    "- Shoot single atoms single atom and react with oxygen in the container, \n",
    "- Plasma\n",
    "- \n",
    "- \n",
    "\n",
    "Lookup hall bridge:\n",
    "2 types of electron later on.\n",
    "\n",
    "Put more parameters in paper of the PLD.\n",
    "heated so it becomes a plasma. \n",
    "\n",
    "\n",
    "**IMPORTANT to make a good measurement protocol for FETS** \n",
    "Need do that now. Lookup hall effect for the measurement.\n",
    "\n",
    "\n",
    "\n",
    "\n",
    "\n",
    "\n",
    "\n",
    "\n"
   ]
  },
  {
   "cell_type": "code",
   "execution_count": null,
   "metadata": {},
   "outputs": [],
   "source": []
  },
  {
   "cell_type": "code",
   "execution_count": null,
   "metadata": {},
   "outputs": [],
   "source": []
  },
  {
   "cell_type": "code",
   "execution_count": null,
   "metadata": {},
   "outputs": [],
   "source": []
  }
 ],
 "metadata": {
  "kernelspec": {
   "display_name": "Python 3",
   "language": "python",
   "name": "python3"
  },
  "language_info": {
   "codemirror_mode": {
    "name": "ipython",
    "version": 3
   },
   "file_extension": ".py",
   "mimetype": "text/x-python",
   "name": "python",
   "nbconvert_exporter": "python",
   "pygments_lexer": "ipython3",
   "version": "3.6.4"
  }
 },
 "nbformat": 4,
 "nbformat_minor": 2
}
