{
 "cells": [
  {
   "cell_type": "markdown",
   "metadata": {},
   "source": [
    "# Journal Entry\n",
    "\n"
   ]
  },
  {
   "cell_type": "markdown",
   "metadata": {},
   "source": [
    "## 26/4/2018\n",
    "\n",
    "### PLD and Pulse Laser deposition\n",
    "PLD : Pulse laser deposition\n",
    "RHEED : Reflection High Energy Electron deposition\n",
    "\n",
    "\n",
    "Procedure for the sample is initially set by : https://en.wikipedia.org/wiki/Photolithography\n",
    "\n",
    "**Procedure for substrate**\n",
    "\n",
    "fabricated in the UTwente clean room (Yelllow room) STO substrate\n",
    "- The substrate grown, ( Reseach on: STO growth, and lookup terrace on why that the terrace form is needed. Not completely flat)atoms moving, so better defined. \n",
    "- Substrate is cleaned, \n",
    "- spin coating with photo resist\n",
    "- Apply photomask, do allignment and such\n",
    "- Apply UV light for 7 seconds\n",
    "- Remove photo resist, clean using solvents.\n",
    "- Etching stuff\n",
    "- Lookup the phd thesis\n",
    "\n",
    "**PLD** \n",
    "- Alignment of the optics\n",
    "- set the Energy of the laser, calibrate it. Energy of the laser is based on the ionization energy required for the material.\n",
    "- The allignment \n",
    "- Temperature 850C for ALO \n",
    "- Temperature 100C for Gold\n",
    "- Shoot single atoms single atom and react ambient oxygen in the container, \n",
    "- Plasma flue is shot out, interact with the surrounding oxygen and covered the sample STO with the LAO layer. then the gold \n",
    "- \n",
    "- \n",
    "\n",
    "Lookup hall bridge:\n",
    "2 types of electron later on.\n",
    "\n",
    "Put more parameters in paper of the PLD.\n",
    "heated so it becomes a plasma. \n",
    "\n",
    "\n",
    "**IMPORTANT to make a good measurement protocol for FETS** \n",
    "Need do that now. Lookup hall effect for the measurement.\n",
    "\n",
    "Lookup van der pauw method for classification of mobility and charge density so you can relate your theory of simulation with the measurement.\n",
    "\n",
    "\n",
    "\n",
    "\n",
    "\n",
    "\n",
    "\n",
    "\n"
   ]
  },
  {
   "cell_type": "markdown",
   "metadata": {},
   "source": [
    "## 30/4/2018\n",
    "\n",
    "### Sample FETs\n",
    "\n",
    "Measurement can be done in this week. Today is the finalization of the 4 u.c FET. Get used to the wire bonded setup for measuring the 4 u.c. thick."
   ]
  },
  {
   "cell_type": "code",
   "execution_count": null,
   "metadata": {},
   "outputs": [],
   "source": [
    "import matplotlib.pyplot as plt\n",
    "import panda as pd\n",
    "\n",
    "\n"
   ]
  },
  {
   "cell_type": "code",
   "execution_count": null,
   "metadata": {},
   "outputs": [],
   "source": []
  },
  {
   "cell_type": "code",
   "execution_count": null,
   "metadata": {},
   "outputs": [],
   "source": []
  }
 ],
 "metadata": {
  "kernelspec": {
   "display_name": "Python 3",
   "language": "python",
   "name": "python3"
  },
  "language_info": {
   "codemirror_mode": {
    "name": "ipython",
    "version": 3
   },
   "file_extension": ".py",
   "mimetype": "text/x-python",
   "name": "python",
   "nbconvert_exporter": "python",
   "pygments_lexer": "ipython3",
   "version": "3.6.4"
  }
 },
 "nbformat": 4,
 "nbformat_minor": 2
}
