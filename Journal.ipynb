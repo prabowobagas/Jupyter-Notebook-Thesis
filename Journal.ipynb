{
 "cells": [
  {
   "cell_type": "markdown",
   "metadata": {},
   "source": [
    "# Journal Entry\n",
    "\n"
   ]
  },
  {
   "cell_type": "markdown",
   "metadata": {},
   "source": [
    "## 26/4/2018\n",
    "\n",
    "### PLD and Pulse Laser deposition\n",
    "PLD : Pulse laser deposition\n",
    "RHEED : Reflection High Energy Electron deposition\n",
    "\n",
    "\n",
    "Procedure for the sample is initially set by : https://en.wikipedia.org/wiki/Photolithography\n",
    "\n",
    "**Procedure for substrate**\n",
    "\n",
    "fabricated in the UTwente clean room (Yelllow room) STO substrate\n",
    "- The substrate grown, ( Reseach on: STO growth, and lookup terrace on why that the terrace form is needed. Not completely flat)atoms moving, so better defined. \n",
    "- Substrate is cleaned, \n",
    "- spin coating with photo resist\n",
    "- Apply photomask, do allignment and such\n",
    "- Apply UV light for 7 seconds\n",
    "- Remove photo resist, clean using solvents.\n",
    "- Etching stuff\n",
    "Lookup the phd thesis\n",
    "\n",
    "**PLD** \n",
    "- Alignment of the optics\n",
    "- set the energy of the laser, calibrate it. Energy of the laser is base on the ionization energy required for the material. \n",
    "- Temperature 850C for ALO \n",
    "- Temperature 100C for Gold\n",
    "- Plume shoots out single atoms and it will react with ambient oxygen in the container. Depends on the stochiometery of the system. It can be tuned to the \n",
    "\n",
    "\n",
    "Put more parameters in paper of the PLD.\n",
    "\n",
    "\n",
    "\n",
    "**IMPORTANT to make a good measurement protocol for FETS** \n",
    "\n",
    "Lookup van der pauw method for the classification of mobility and charge density so you can relate your theory and simulation with the measurement.\n",
    "\n",
    "\n",
    "\n",
    "\n",
    "\n",
    "\n",
    "\n",
    "\n"
   ]
  },
  {
   "cell_type": "markdown",
   "metadata": {},
   "source": [
    "## 30/4/2018\n",
    "### Notes:\n",
    "Measurement will be done next week. Today is the finalization of the 4 u.c FET. Use probe station to measure I-V curve. Gate etching is also done hence first sample can be measured. Sweep $V_{gs}$ with constant $V_{ds}$. Measure $I_{ds}$. etc etc."
   ]
  },
  {
   "cell_type": "code",
   "execution_count": 1,
   "metadata": {},
   "outputs": [],
   "source": [
    "import matplotlib.pyplot as plt\n",
    "import numpy as np\n",
    "import pandas as pd"
   ]
  },
  {
   "cell_type": "markdown",
   "metadata": {},
   "source": [
    "### Simulation\n",
    "\n",
    "Resource: https://journals.aps.org/prl/pdf/10.1103/PhysRevLett.109.196803\n",
    "\n",
    "Discuss mainly on the percolation effect. Modelling will be done using Variable-range hopping theory in which is also discussed in the paper. Another option is to use capacitor based modelling. Could be done by sweeping the whole $C_{LAO}$ variable and curve fit it to the measurement. Much more interesting to use the VRH theory. \n"
   ]
  },
  {
   "cell_type": "code",
   "execution_count": null,
   "metadata": {},
   "outputs": [],
   "source": []
  }
 ],
 "metadata": {
  "kernelspec": {
   "display_name": "Python 3",
   "language": "python",
   "name": "python3"
  },
  "language_info": {
   "codemirror_mode": {
    "name": "ipython",
    "version": 3
   },
   "file_extension": ".py",
   "mimetype": "text/x-python",
   "name": "python",
   "nbconvert_exporter": "python",
   "pygments_lexer": "ipython3",
   "version": "3.6.4"
  }
 },
 "nbformat": 4,
 "nbformat_minor": 2
}
