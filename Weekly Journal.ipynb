{
 "cells": [
  {
   "cell_type": "markdown",
   "metadata": {},
   "source": [
    "# Journal Entry\n",
    "\n"
   ]
  },
  {
   "cell_type": "markdown",
   "metadata": {},
   "source": [
    "## Week 1\n",
    "\n",
    "### PLD and Pulse Laser deposition\n",
    "PLD : Pulse laser deposition\n",
    "RHEED : Reflection High Energy Electron deposition\n",
    "\n",
    "\n",
    "Procedure for the sample is initially set by : https://en.wikipedia.org/wiki/Photolithography\n",
    "\n",
    "**Procedure for substrate**\n",
    "\n",
    "fabricated in the UTwente clean room (Yelllow room) STO substrate\n",
    "- The substrate grown, ( Reseach on: STO growth, and lookup terrace on why that the terrace form is needed. Not completely flat)atoms moving, so better defined. \n",
    "- Substrate is cleaned, \n",
    "- spin coating with photo resist\n",
    "- Apply photomask, do allignment and such\n",
    "- Apply UV light for 7 seconds\n",
    "- Remove photo resist, clean using solvents.\n",
    "- Etching stuff\n",
    "Lookup the phd thesis\n",
    "\n",
    "**PLD** \n",
    "- Alignment of the optics\n",
    "- set the energy of the laser, calibrate it. Energy of the laser is base on the ionization energy required for the material. \n",
    "- Temperature 850C for ALO \n",
    "- Temperature 100C for Gold\n",
    "- Plume shoots out single atoms and it will react with ambient oxygen in the container. Depends on the stochiometery of the system. It can be tuned to the \n",
    "\n",
    "\n",
    "Put more parameters in paper of the PLD.\n",
    "\n",
    "\n",
    "\n",
    "**IMPORTANT to make a good measurement protocol for FETS** \n",
    "\n",
    "Lookup van der pauw method for the classification of mobility and charge density so you can relate your theory and simulation with the measurement.\n",
    "\n",
    "\n",
    "\n",
    "\n",
    "\n",
    "\n",
    "\n",
    "\n"
   ]
  },
  {
   "cell_type": "markdown",
   "metadata": {},
   "source": [
    "## Week 2\n",
    "### Notes:\n",
    "Measurement will be done next week. Today is the finalization of the 4 u.c FET. Use probe station to measure I-V curve. Gate etching is also done hence first sample can be measured. Sweep $V_{gs}$ with constant $V_{ds}$. Measure $I_{ds}$. etc etc."
   ]
  },
  {
   "cell_type": "markdown",
   "metadata": {},
   "source": [
    "### Simulation\n",
    "\n",
    "Resource: https://journals.aps.org/prl/pdf/10.1103/PhysRevLett.109.196803\n",
    "\n",
    "Discuss mainly on the percolation effect. Modelling will be done using Variable-range hopping theory in which is also discussed in the paper. Another option is to use capacitor based modelling. Could be done by sweeping the whole $C_{LAO}$ variable and curve fit it to the measurement. Much more interesting to use the VRH theory.\n",
    "\n",
    "Focus on the non-percolative region from the paper. (2D variable range hopping model or RRTN) that can be switch and might even have memristive effects. Eq 1 and Eq 2 should be the focus of the model. \n",
    "\n",
    "**Eq 1**: This is temperature dependent, hence might be time consuming to test.\n",
    "\\begin{align}\n",
    "R = R_0 \\exp \\left( \\left[ \\frac{T_0}{T}\\right]^v \\right)\n",
    "\\end{align}\n",
    "\n",
    "**Eq 2**: Using the RRTN percolation model for our FET might be a good start.\n",
    "\\begin{align}\n",
    "I_{sd} &\\propto (V_{sd} - V_c)^{\\delta}  \\text{  for  } V_{sd} \\geq V_{c} \\\\\n",
    "I_{sd} &= 0 \\text{  for  } V_{sd} < V_c\n",
    "\\end{align}\n",
    "\n",
    "\n",
    "\n"
   ]
  },
  {
   "cell_type": "code",
   "execution_count": 1,
   "metadata": {},
   "outputs": [],
   "source": [
    "import matplotlib.pyplot as plt\n",
    "import numpy as np\n",
    "import pandas as pd"
   ]
  },
  {
   "cell_type": "code",
   "execution_count": 2,
   "metadata": {},
   "outputs": [
    {
     "data": {
      "image/png": "[encoded data removed]",
      "text/plain": [
       "<matplotlib.figure.Figure at 0xa1e17f0>"
      ]
     },
     "metadata": {},
     "output_type": "display_data"
    }
   ],
   "source": [
    "#Equation 1 testing\n",
    "\n",
    "R_0 = 1*10**8\n",
    "T_0 = 250\n",
    "T = np.linspace(1,100,100)\n",
    "v=0.1\n",
    "for i in range(1,5):\n",
    "    R = R_0*np.exp((T_0/T)**v)\n",
    "    v = v+0.1\n",
    "    plt.semilogy(T,R)\n",
    "    axes = plt.gca()\n",
    "    axes.set_xlim([0,60])\n",
    "\n",
    "    \n"
   ]
  },
  {
   "cell_type": "code",
   "execution_count": 12,
   "metadata": {},
   "outputs": [
    {
     "ename": "TypeError",
     "evalue": "data type not understood",
     "output_type": "error",
     "traceback": [
      "\u001b[1;31m---------------------------------------------------------------------------\u001b[0m",
      "\u001b[1;31mTypeError\u001b[0m                                 Traceback (most recent call last)",
      "\u001b[1;32m<ipython-input-12-70fd6ef04e43>\u001b[0m in \u001b[0;36m<module>\u001b[1;34m()\u001b[0m\n\u001b[0;32m      3\u001b[0m \u001b[0mdelta\u001b[0m \u001b[1;33m=\u001b[0m \u001b[1;36m1.48\u001b[0m\u001b[1;33m\u001b[0m\u001b[0m\n\u001b[0;32m      4\u001b[0m \u001b[0mV_c\u001b[0m \u001b[1;33m=\u001b[0m \u001b[1;36m0.475\u001b[0m\u001b[1;33m\u001b[0m\u001b[0m\n\u001b[1;32m----> 5\u001b[1;33m \u001b[0mI_sd\u001b[0m \u001b[1;33m=\u001b[0m \u001b[0mnp\u001b[0m\u001b[1;33m.\u001b[0m\u001b[0mzeros\u001b[0m\u001b[1;33m(\u001b[0m\u001b[1;36m1\u001b[0m\u001b[1;33m,\u001b[0m\u001b[0mlen\u001b[0m\u001b[1;33m(\u001b[0m\u001b[0mV_sd\u001b[0m\u001b[1;33m)\u001b[0m\u001b[1;33m)\u001b[0m\u001b[1;33m\u001b[0m\u001b[0m\n\u001b[0m\u001b[0;32m      6\u001b[0m \u001b[1;32mfor\u001b[0m \u001b[0mx\u001b[0m \u001b[1;32min\u001b[0m \u001b[0mrange\u001b[0m\u001b[1;33m(\u001b[0m\u001b[1;36m1\u001b[0m\u001b[1;33m,\u001b[0m\u001b[1;36m100\u001b[0m\u001b[1;33m)\u001b[0m\u001b[1;33m:\u001b[0m\u001b[1;33m\u001b[0m\u001b[0m\n\u001b[0;32m      7\u001b[0m     \u001b[1;32mif\u001b[0m \u001b[0mall\u001b[0m\u001b[1;33m(\u001b[0m\u001b[0mx\u001b[0m\u001b[1;33m<\u001b[0m\u001b[0mV_c\u001b[0m \u001b[1;32mfor\u001b[0m \u001b[0mx\u001b[0m \u001b[1;32min\u001b[0m \u001b[0mV_sd\u001b[0m\u001b[1;33m)\u001b[0m \u001b[1;33m:\u001b[0m\u001b[1;33m\u001b[0m\u001b[0m\n",
      "\u001b[1;31mTypeError\u001b[0m: data type not understood"
     ]
    }
   ],
   "source": [
    "#Equation 2 testing\n",
    "V_sd = np.linspace(0,5,100) #Can have negative initial value, depletion mode\n",
    "delta = 1.48\n",
    "V_c = 0.475\n",
    "\n",
    "\n",
    "\n",
    "\n"
   ]
  },
  {
   "cell_type": "code",
   "execution_count": null,
   "metadata": {},
   "outputs": [],
   "source": []
  },
  {
   "cell_type": "code",
   "execution_count": null,
   "metadata": {},
   "outputs": [],
   "source": []
  }
 ],
 "metadata": {
  "kernelspec": {
   "display_name": "Python 3",
   "language": "python",
   "name": "python3"
  },
  "language_info": {
   "codemirror_mode": {
    "name": "ipython",
    "version": 3
   },
   "file_extension": ".py",
   "mimetype": "text/x-python",
   "name": "python",
   "nbconvert_exporter": "python",
   "pygments_lexer": "ipython3",
   "version": "3.6.4"
  }
 },
 "nbformat": 4,
 "nbformat_minor": 2
}
