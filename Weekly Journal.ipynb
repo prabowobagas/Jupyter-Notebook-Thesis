{
 "cells": [
  {
   "cell_type": "markdown",
   "metadata": {},
   "source": [
    "# Research Notes:\n",
    "\n",
    "**Eerkes Utwente et al. - Modulation of conductance and superconductivity top gating LAO/STO**:\n",
    "- Top gated device were fabricated on STO (001)-oriented substrate, at TiO2-layer\n",
    "- isolated measurement structure by lift-off patterend (lithography+photoresist) by using a-LAO layer.\n",
    "- LAO deposited by PLD. Crystalline LAO PLD-deposited in oxygen pressure of 2e-3 milibars at 850c\n",
    "- Sampled was cooled down to 600c at deposition pressure, post anneal of 1h at 600c at oxygen pressure of 600 milibars, followed a cool down to room temp at 600milibar pressure. (this creates insulating a-LAO/STO layer.\n",
    "- Ohmic contacts to the 2DEG is deposited by sputtering of Ti/Au.(Use an argon etcher first to remove some gold layers(?)). \n",
    "- Vg = 0V , $n_s = 1.9*10^{13}$ $cm^{-2}$. Which is typical value for metalic top-gates. (state is the same as devices without top-gates)\n",
    "\n",
    "**B. Forg  et al.- Field-effect devices utilizing LaAlO3-SrTiO3 interfaces**:\n",
    "- 9 uc thick LAO, in situ gate. Depletion mode. operating tested at -100 c to 100c, short 20um-200um and wide 1600um channels)\n",
    "- Fabricate all-oxide FET with current and voltage gain.\n",
    "- Oxide interface is proven that they can be controlled effectively by gate field induced by top gating config.\n",
    "- Thin gate dielectric (LAO) , devices can be operated with small gate voltages in comparison to bottom gating\n",
    "- Lower limits to be explored.\n",
    "- Subthreshold swing S = 0.7/4 => 175mV/dec\n",
    "- \n",
    "\n",
    "**M. Hosada et al. - Transistor operation and mobility enhancement in top-gated\n",
    "LaAlO3/SrTiO3 heterostructures** :\n",
    "- Depletion mode too\n",
    "- Two probe device geometry prevented the determination of sheet carrier density n and hence hall mobility.\n",
    "- Again, TiO2 terminated STO substrate, pre-deposited a-LAO hard mask. \n",
    "    - LAO thickness between DS is 4uc to 22uc. \n",
    "    - 400um channel length\n",
    "    - Channel width 5-200um.\n",
    "    - ex-situ gate, sputtered Au with 100nm thickness\n",
    "    - Source and drain were contacted with Al ultrasonic wire bonding\n",
    "- gate leakage current Ig was significantly smaller than Id when device is on\n",
    "- Obtained a clear transistor charactersitics at T = 300k for 16uc LAO\n",
    "- Pinch off observed for -0.8V <= Vgs <= +1.2V, (Saturation at higher vds)\n",
    "- dId/dVds (conductance) can show the pinch off voltage Vp as a function of Vgs. At Vds = Vp, Id sat is shown.\n",
    "- Linear behaviour in the saturation region as expected. Vth = 01.15+0.05V. We can use the Variable range hopping model to calculate Vth too.\n",
    "- Small hysterisis.\n",
    "- Confirms that trasistor charactersitics is still obtained LAO thichkness of 4uc. Vth does not scale monotonically with thickness of LAO, as would be the case for constant sheet carrier density. confirming that Vth does not depend on:\n",
    "\\begin{align}\n",
    "V_{th} = \\frac{-ed_{LAO}n}{\\epsilon \\epsilon_0}\n",
    "\\end{align}\n",
    "-  When Vgs -> Vth, enhancement of hall mobility is observed as n decreased.\n",
    "-\n",
    "\n",
    "**C. Woltmann et al. - Field-Effect Transistors with Submicrometer Gate Lengths Fabricated\n",
    "from LaAlO3-SrTiO3-Based Heterostructures** :\n",
    "- Considers short effect behaviour\n",
    "- Methods describing semiconductor physics are applicable only with considerable restriction since electronic properties of complex oxides differs fundamentally from conventional semiconductor\n",
    "- Conclude that with decreasing gate length, Vt shifts to lower values and is increasingly dependent on Vsd (note that this is depletion mode)\n",
    "- On-ff ratio and subthreshold slope decrease (Subthreshold swing increase).  A device characterized by steep subthreshold slope will have a faster transition between off (low current) and on (high current) states.\n",
    "\n",
    "**Variable Range hopping Conduction (VRH) pdf**: \n",
    "\n",
    "Chapter 4.1:Outline\n",
    "- Modeled for amorphous crystal which in this case is SiO2\n",
    "- Mott introduced the concept of hopping conduction: VRH\n",
    "- Empirically observed $log\\sigma \\propto T^{-1/4}$\n",
    "- $log\\sigma \\propto T^{-1/4}$ is valid for low E field strength, an extension is needed for higher field stregth\n",
    "- VRH process is often expressed in terms of a percolation problem. VRH/Percolation problem is successful in describing the process in ohmic low-field regime[pg5] but not at medium and high field regime (i.e saturation mode at our case)\n",
    "\n",
    "Chapter 4.2:Hopping Probability\n",
    "- Assuming no corellation with occupation probability of different localize states, net electron flow is:\n",
    "$$I_{ij} = f_i(1-f_j)w_{ij} - f_j(1-f_i)w_{ji} $$\n",
    "\n",
    "Where $f_i$ is occupation probability of state i and "
   ]
  },
  {
   "cell_type": "markdown",
   "metadata": {},
   "source": [
    "\n",
    "# Journal Entry\n",
    "## Week 1\n",
    "\n",
    "### PLD and Pulse Laser deposition\n",
    "PLD : Pulse laser deposition\n",
    "RHEED : Reflection High Energy Electron deposition\n",
    "\n",
    "\n",
    "Procedure for the sample is initially set by : https://en.wikipedia.org/wiki/Photolithography\n",
    "\n",
    "**Procedure for substrate**\n",
    "\n",
    "fabricated in the UTwente clean room, STO substrate is processed as follows\n",
    "- The substrate grown, ( Reseach on: STO growth, and lookup terrace on why that the terrace form is needed. Not completely flat). Annealing makes surface reconstruction, terrace growth is natural, only after terrace growth. \n",
    "- Substrate is cleaned, \n",
    "- spin coating with photo resist\n",
    "- Apply photomask, do allignment and such\n",
    "- Apply UV light for 7 seconds\n",
    "- Remove photo resist, clean using solvents.\n",
    "- Etching stuff\n",
    "Lookup the phd thesis\n",
    "\n",
    "**PLD** \n",
    "- Alignment of the optics\n",
    "- set the energy of the laser, calibrate it. Energy of the laser is base on the ionization energy required for the material. \n",
    "- Temperature 850C for LAO \n",
    "- Temperature 100C for Gold\n",
    "- Plume shoots out single atoms and it will react with ambient oxygen in the container. Depends on the stochiometery of the system. It can be tuned to the \n",
    "\n",
    "\n",
    "Put more parameters in paper of the PLD.\n",
    "\n",
    "\n",
    "\n",
    "**IMPORTANT to make measurement protocol for FETS** \n",
    "\n",
    "Lookup van der pauw method for the classification of mobility and charge density so you can relate your theory and simulation with the measurement.\n"
   ]
  },
  {
   "cell_type": "markdown",
   "metadata": {},
   "source": [
    "## Week 2\n",
    "### Notes:\n",
    "Measurement will be done next week. Today is the finalization of the 4 u.c FET. Use probe station to measure I-V curve. Gate etching is also done hence first sample can be measured. Sweep $V_{gs}$ with constant $V_{ds}$. Measure $I_{ds}$. etc etc.\n",
    "\n",
    "### Simulation\n",
    "\n",
    "Resource: https://journals.aps.org/prl/pdf/10.1103/PhysRevLett.109.196803\n",
    "\n",
    "Discuss mainly on the percolation effect. Modelling will be done using Variable-range hopping theory in which is also discussed in the paper. Another option is to use capacitor based modelling. Could be done by sweeping the whole $C_{LAO}$ variable and curve fit it to the measurement. Much more interesting to use the VRH theory.\n",
    "\n",
    "Focus on the non-percolative region from the paper. (2D variable range hopping model or RRTN) that can be switch and might even have memristive effects. Eq 1 and Eq 2 should be the focus of the model. \n",
    "\n",
    "**Eq 1**: This is temperature dependent, hence might be time consuming to test.\n",
    "\\begin{align}\n",
    "R = R_0 \\exp \\left( \\left[ \\frac{T_0}{T}\\right]^v \\right)\n",
    "\\end{align}\n",
    "\n",
    "**Eq 2**: Using the RRTN percolation model for our FET might be a good start.\n",
    "\\begin{align}\n",
    "I_{sd} &\\propto (V_{sd} - V_c)^{\\delta}  \\text{  for  } V_{sd} \\geq V_{c} \\\\\n",
    "I_{sd} &= 0 \\text{  for  } V_{sd} < V_c\n",
    "\\end{align}\n"
   ]
  },
  {
   "cell_type": "code",
   "execution_count": 4,
   "metadata": {},
   "outputs": [],
   "source": [
    "import matplotlib.pyplot as plt\n",
    "import numpy as np\n",
    "import pandas as pd"
   ]
  },
  {
   "cell_type": "code",
   "execution_count": 2,
   "metadata": {},
   "outputs": [
    {
     "data": {
      "image/png": "[encoded data removed]",
      "text/plain": [
       "<matplotlib.figure.Figure at 0x1cd0b53c2e8>"
      ]
     },
     "metadata": {},
     "output_type": "display_data"
    }
   ],
   "source": [
    "#Equation 1 testing\n",
    "\n",
    "R_0 = 1*10**8\n",
    "T_0 = 250\n",
    "T = np.linspace(1,100,100)\n",
    "v=0.1\n",
    "for i in range(1,5):\n",
    "    R = R_0*np.exp((T_0/T)**v)\n",
    "    v = v+0.1\n",
    "    plt.semilogy(T,R)\n",
    "    axes = plt.gca()\n",
    "    axes.set_xlim([0,60])\n",
    "\n",
    "    \n"
   ]
  },
  {
   "cell_type": "code",
   "execution_count": 3,
   "metadata": {
    "scrolled": true
   },
   "outputs": [
    {
     "data": {
      "text/plain": [
       "Text(0.5,1,'$I_{ds}$ vs $V_{ds}$')"
      ]
     },
     "execution_count": 3,
     "metadata": {},
     "output_type": "execute_result"
    },
    {
     "data": {
      "image/png": "[encoded data removed]",
      "text/plain": [
       "<matplotlib.figure.Figure at 0x1cd0b4f15c0>"
      ]
     },
     "metadata": {},
     "output_type": "display_data"
    }
   ],
   "source": [
    "#Equation 2 testing\n",
    "V_sd = np.linspace(0,5,100) #Can have negative initial value, depletion mode\n",
    "delta = 1.56\n",
    "V_c = 0.475\n",
    "I_sd = [None]*len(V_sd) #initialize the list\n",
    "for i,val in enumerate(V_sd):\n",
    "    if val<V_c:\n",
    "        I_sd[i]=0\n",
    "    elif val>=V_c:\n",
    "        I_sd[i]=1.25*(val - V_c)**delta\n",
    "\n",
    "\n",
    "plt.plot(V_sd,I_sd)\n",
    "plt.xlabel('$V_{ds}[V]$', fontsize = 15 )\n",
    "plt.ylabel('$I_{ds}$ [$\\mu$A]',fontsize = 15)\n",
    "plt.title('$I_{ds}$ vs $V_{ds}$',fontsize = 20)"
   ]
  },
  {
   "cell_type": "code",
   "execution_count": null,
   "metadata": {},
   "outputs": [],
   "source": []
  },
  {
   "cell_type": "code",
   "execution_count": null,
   "metadata": {},
   "outputs": [],
   "source": []
  },
  {
   "cell_type": "code",
   "execution_count": null,
   "metadata": {},
   "outputs": [],
   "source": []
  }
 ],
 "metadata": {
  "kernelspec": {
   "display_name": "Python 3",
   "language": "python",
   "name": "python3"
  },
  "language_info": {
   "codemirror_mode": {
    "name": "ipython",
    "version": 3
   },
   "file_extension": ".py",
   "mimetype": "text/x-python",
   "name": "python",
   "nbconvert_exporter": "python",
   "pygments_lexer": "ipython3",
   "version": "3.6.4"
  }
 },
 "nbformat": 4,
 "nbformat_minor": 2
}
